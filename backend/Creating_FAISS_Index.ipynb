{
 "cells": [
  {
   "cell_type": "code",
   "execution_count": 1,
   "id": "7cc9d51c",
   "metadata": {},
   "outputs": [
    {
     "name": "stderr",
     "output_type": "stream",
     "text": [
      "/Users/ayomideoraegbu/.local/share/virtualenvs/backend-V-7KBjD-/lib/python3.13/site-packages/tqdm/auto.py:21: TqdmWarning: IProgress not found. Please update jupyter and ipywidgets. See https://ipywidgets.readthedocs.io/en/stable/user_install.html\n",
      "  from .autonotebook import tqdm as notebook_tqdm\n"
     ]
    }
   ],
   "source": [
    "from langchain.text_splitter import RecursiveCharacterTextSplitter\n",
    "from langchain_huggingface import HuggingFaceEmbeddings\n",
    "# from langchain.vectorstores import FAISS\n",
    "from langchain_community.vectorstores import FAISS \n",
    "from langchain.docstore.document import Document\n",
    "\n",
    "import logging\n",
    "import os\n",
    "logging.basicConfig(level=logging.INFO)\n",
    "logger = logging.getLogger(__name__)\n",
    "import pandas as pd\n",
    "from dotenv import load_dotenv\n",
    "from pathlib import Path\n",
    "import kagglehub\n",
    "\n",
    "\n",
    "\n",
    "def create_faiss_db(documents):\n",
    "    splitter = RecursiveCharacterTextSplitter(chunk_size=100, chunk_overlap=10)\n",
    "    split_docs = splitter.split_documents(documents)\n",
    "    embeddings = HuggingFaceEmbeddings(model_name=\"sentence-transformers/all-MiniLM-L6-v2\", model_kwargs={'device': 'cpu'})\n",
    "    print('before faiss from dcoument ')\n",
    "    vector_store = FAISS.from_documents(split_docs, embeddings)\n",
    "    vector_store.save_local(Path(os.getcwd()) / 'storage')\n",
    "    logger.info(\"FAISS vector store created and saved\")\n",
    "    return vector_store\n"
   ]
  },
  {
   "cell_type": "code",
   "execution_count": 2,
   "id": "b560f655",
   "metadata": {},
   "outputs": [
    {
     "name": "stderr",
     "output_type": "stream",
     "text": [
      "INFO:__main__:.env file loaded from /Users/ayomideoraegbu/WORK/GreenLife-Mental-Health-Chatbot/backend/.env\n"
     ]
    }
   ],
   "source": [
    "\n",
    "# Load environment variables\n",
    "route = Path(os.getcwd()) / \".env\"\n",
    "\n",
    "if os.path.exists(route):\n",
    "    load_dotenv(dotenv_path=route)\n",
    "    logger.info(f\".env file loaded from {route}\")\n",
    "else:\n",
    "    logger.warning(f\".env file not found at {route}. Falling back to Colab secrets.\")\n",
    "\n",
    "# Get API key (try .env first, then Colab secrets)\n",
    "api_key = os.getenv(\"GOOGLE_API_KEY\")"
   ]
  },
  {
   "cell_type": "code",
   "execution_count": 3,
   "id": "e033d1a4",
   "metadata": {},
   "outputs": [
    {
     "name": "stderr",
     "output_type": "stream",
     "text": [
      "INFO:__main__:Google Sheets dataset loaded\n",
      "INFO:__main__:Kaggle dataset loaded\n",
      "INFO:__main__:Created 1270 documents from datasets\n"
     ]
    }
   ],
   "source": [
    "\n",
    "# Load existing datasets\n",
    "url = 'https://docs.google.com/spreadsheets/d/e/2PACX-1vRGbYKgw5x2xteCHSjLhkY5FHTPjtVnvBkN_5m2p6clfdUJK77CLDRSdq5RbPygNygaTFsK3xghrfi4/pub?output=csv'\n",
    "try:\n",
    "    df1 = pd.read_csv(url)\n",
    "    logger.info(\"Google Sheets dataset loaded\")\n",
    "except Exception as e:\n",
    "    logger.error(f\"Failed to load Google Sheets dataset: {str(e)}\")\n",
    "    raise\n",
    "\n",
    "path_ = kagglehub.dataset_download(\"emirhanai/social-media-usage-and-emotional-well-being\")\n",
    "# path_ = \"/kaggle/input/social-media-usage-and-emotional-well-being\"\n",
    "try:\n",
    "    df2 = pd.read_csv(f\"{path_}/train.csv\")\n",
    "    logger.info(\"Kaggle dataset loaded\")\n",
    "except Exception as e:\n",
    "    logger.error(f\"Failed to load Kaggle dataset: {str(e)}\")\n",
    "    raise\n",
    "\n",
    "# Convert rows to documents\n",
    "def create_documents(df, content_column=None):\n",
    "    documents = []\n",
    "    for index, row in df.iterrows():\n",
    "        if content_column:\n",
    "            content = str(row[content_column])\n",
    "        else:\n",
    "            content = \"\".join(str(value) for value in row)\n",
    "        documents.append(Document(page_content=content))\n",
    "    return documents\n",
    "\n",
    "# Create documents from all datasets\n",
    "docs1 = create_documents(df1)\n",
    "docs2 = create_documents(df2)\n",
    "# docs3 = create_documents(df3, content_column=\"Comments\")\n",
    "all_docs = docs1 + docs2 # + docs3\n",
    "logger.info(f\"Created {len(all_docs)} documents from datasets\")"
   ]
  },
  {
   "cell_type": "code",
   "execution_count": 4,
   "id": "0cf67db3",
   "metadata": {},
   "outputs": [
    {
     "name": "stderr",
     "output_type": "stream",
     "text": [
      "INFO:sentence_transformers.SentenceTransformer:Load pretrained SentenceTransformer: sentence-transformers/all-MiniLM-L6-v2\n"
     ]
    },
    {
     "name": "stdout",
     "output_type": "stream",
     "text": [
      "before faiss from dcoument \n"
     ]
    },
    {
     "name": "stderr",
     "output_type": "stream",
     "text": [
      "INFO:faiss.loader:Loading faiss.\n",
      "INFO:faiss.loader:Successfully loaded faiss.\n",
      "INFO:faiss:Failed to load GPU Faiss: name 'GpuIndexIVFFlat' is not defined. Will not load constructor refs for GPU indexes. This is only an error if you're trying to use GPU Faiss.\n",
      "INFO:__main__:FAISS vector store created and saved\n"
     ]
    }
   ],
   "source": [
    "vector_store = create_faiss_db(all_docs)"
   ]
  }
 ],
 "metadata": {
  "kernelspec": {
   "display_name": "backend-V-7KBjD-",
   "language": "python",
   "name": "python3"
  },
  "language_info": {
   "codemirror_mode": {
    "name": "ipython",
    "version": 3
   },
   "file_extension": ".py",
   "mimetype": "text/x-python",
   "name": "python",
   "nbconvert_exporter": "python",
   "pygments_lexer": "ipython3",
   "version": "3.13.3"
  }
 },
 "nbformat": 4,
 "nbformat_minor": 5
}
